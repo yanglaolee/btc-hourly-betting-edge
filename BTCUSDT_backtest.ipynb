{
 "cells": [
  {
   "cell_type": "code",
   "execution_count": 66,
   "id": "ba2ffabe-672f-476d-9809-ceb37d86eab1",
   "metadata": {},
   "outputs": [],
   "source": [
    "import pandas as pd\n"
   ]
  },
  {
   "cell_type": "code",
   "execution_count": 67,
   "id": "fa3cd151-00d9-4b38-9bf2-73b7a7aca09f",
   "metadata": {},
   "outputs": [],
   "source": [
    "df = pd.read_csv('BTCUSDT_5min_from_2019.csv')\n",
    "df['timestamp'] = pd.to_datetime(df['timestamp'])  # 把 timestamp 轉為 datetime 格式\n",
    "df.set_index('timestamp', inplace=True) \n",
    "\n",
    "\n",
    "# 每小時 00 分 open 價格（也作為 hour_k_open）\n",
    "df[\"hour_00_open\"] = df[df.index.minute == 0][\"open\"]\n",
    "df[\"hour_k_open\"] = df[\"hour_00_open\"]\n",
    "\n",
    "# 每小時 15 分 open 價格\n",
    "df[\"hour_15_open\"] = df[df.index.minute == 15][\"open\"]\n",
    "\n",
    "# 每小時 15 分 open 價格\n",
    "df[\"hour_30_open\"] = df[df.index.minute == 30][\"open\"]\n",
    "\n",
    "# 每小時 45 分 open 價格\n",
    "df[\"hour_45_open\"] = df[df.index.minute == 45][\"open\"]\n",
    "\n",
    "# 每小時 55 分 close 價格（作為 hour_k_close）\n",
    "df[\"hour_k_close\"] = df[df.index.minute == 55][\"close\"]\n",
    "\n",
    "#過濾掉前後沒有開收的資料，沒有完整一小時的資料。\n",
    "# 3. 篩選完整區段\n",
    "# df_filtered = df.loc['2020-01-01 18:00:00':'2025-06-29 12:55:00'].copy()  # 全历史数据范围\n",
    "# df_filtered = df.loc['2024-06-29 18:00:00':'2025-06-29 12:55:00'].copy()  # 一年\n",
    "# df_filtered = df.loc['2024-12-29 18:00:00':'2025-06-29 12:55:00'].copy()  # 半年\n",
    "# df_filtered = df.loc['2025-03-29 18:00:00':'2025-06-29 12:55:00'].copy()  # 三月\n",
    "# df_filtered = df.loc['2025-05-29 18:00:00':'2025-06-29 12:55:00'].copy()  # 一月\n",
    "df_filtered = df.loc['2025-06-22 18:00:00':'2025-06-29 12:55:00'].copy()  # 一周"
   ]
  },
  {
   "cell_type": "code",
   "execution_count": 68,
   "id": "66420fb7-5d15-49e0-a64a-a41a3aa580e9",
   "metadata": {},
   "outputs": [],
   "source": [
    "# 4. forward-fill 補值（每小時最多 12 根 5 分鐘 K 線）\n",
    "df_filtered[\"hour_00_open\"] = df_filtered[\"hour_00_open\"].ffill(limit=11)\n",
    "df_filtered[\"hour_k_open\"] = df_filtered[\"hour_k_open\"].ffill(limit=11)\n",
    "df_filtered[\"hour_15_open\"] = df_filtered[\"hour_15_open\"].ffill(limit=11)\n",
    "df_filtered[\"hour_30_open\"] = df_filtered[\"hour_30_open\"].ffill(limit=11)\n",
    "df_filtered[\"hour_45_open\"] = df_filtered[\"hour_45_open\"].ffill(limit=11)\n",
    "df_filtered[\"hour_k_close\"] = df_filtered[\"hour_k_close\"].ffill(limit=11)"
   ]
  },
  {
   "cell_type": "code",
   "execution_count": 69,
   "id": "4a5b7458-c70d-411f-9e51-205045f301c4",
   "metadata": {},
   "outputs": [
    {
     "name": "stdout",
     "output_type": "stream",
     "text": [
      "總次數: 163\n",
      "\n",
      "15分條件成立次數: 110\n",
      "15分機率: 67.4847%\n",
      "\n",
      "30分條件成立次數: 117\n",
      "30分機率: 71.7791%\n",
      "\n",
      "45分條件成立次數: 138\n",
      "45分機率: 84.6626%\n"
     ]
    }
   ],
   "source": [
    "# 5. 僅保留每小時的最後一根（55分）\n",
    "df_hourly = df_filtered[df_filtered.index.minute == 55].copy()\n",
    "\n",
    "# 6. 條件判斷與機率計算\n",
    "total = len(df_hourly)\n",
    "\n",
    "cond_up_15 = (df_hourly[\"hour_15_open\"] - df_hourly[\"hour_00_open\"] > 0) & (df_hourly[\"hour_k_close\"] > df_hourly[\"hour_k_open\"])\n",
    "cond_down_15 = (df_hourly[\"hour_15_open\"] - df_hourly[\"hour_00_open\"] < 0) & (df_hourly[\"hour_k_close\"] < df_hourly[\"hour_k_open\"])\n",
    "\n",
    "success_count_15 = (cond_up_15 | cond_down_15).sum()\n",
    "probability_15 = success_count_15 / total\n",
    "\n",
    "cond_up_30 = (df_hourly[\"hour_30_open\"] - df_hourly[\"hour_00_open\"] > 0) & (df_hourly[\"hour_k_close\"] > df_hourly[\"hour_k_open\"])\n",
    "cond_down_30 = (df_hourly[\"hour_30_open\"] - df_hourly[\"hour_00_open\"] < 0) & (df_hourly[\"hour_k_close\"] < df_hourly[\"hour_k_open\"])\n",
    "\n",
    "success_count_30 = (cond_up_30 | cond_down_30).sum()\n",
    "probability_30 = success_count_30 / total\n",
    "\n",
    "cond_up_45 = (df_hourly[\"hour_45_open\"] - df_hourly[\"hour_00_open\"] > 0) & (df_hourly[\"hour_k_close\"] > df_hourly[\"hour_k_open\"])\n",
    "cond_down_45 = (df_hourly[\"hour_45_open\"] - df_hourly[\"hour_00_open\"] < 0) & (df_hourly[\"hour_k_close\"] < df_hourly[\"hour_k_open\"])\n",
    "\n",
    "success_count_45 = (cond_up_45 | cond_down_45).sum()\n",
    "probability_45 = success_count_45 / total\n",
    "\n",
    "# 7. 輸出結果\n",
    "print(f\"總次數: {total}\\n\")\n",
    "\n",
    "print(f\"15分條件成立次數: {success_count_15}\")\n",
    "print(f\"15分機率: {probability_15:.4%}\\n\")\n",
    "\n",
    "print(f\"30分條件成立次數: {success_count_30}\")\n",
    "print(f\"30分機率: {probability_30:.4%}\\n\")\n",
    "\n",
    "print(f\"45分條件成立次數: {success_count_45}\")\n",
    "print(f\"45分機率: {probability_45:.4%}\")"
   ]
  }
 ],
 "metadata": {
  "kernelspec": {
   "display_name": "base",
   "language": "python",
   "name": "python3"
  },
  "language_info": {
   "codemirror_mode": {
    "name": "ipython",
    "version": 3
   },
   "file_extension": ".py",
   "mimetype": "text/x-python",
   "name": "python",
   "nbconvert_exporter": "python",
   "pygments_lexer": "ipython3",
   "version": "3.12.11"
  }
 },
 "nbformat": 4,
 "nbformat_minor": 5
}
